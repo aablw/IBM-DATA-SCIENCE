{
 "cells": [
  {
   "cell_type": "markdown",
   "id": "d52ed23f",
   "metadata": {},
   "source": [
    "# Data Science Tools and Ecosystem "
   ]
  },
  {
   "cell_type": "markdown",
   "id": "291481a7",
   "metadata": {},
   "source": [
    "In this notebook,Data Science Tools and Ecosystem are summarized "
   ]
  },
  {
   "cell_type": "markdown",
   "id": "ed2d02eb",
   "metadata": {},
   "source": [
    "Some of the popular language that Data Scientists use :\n",
    "    1.Python\n",
    "    2.R\n",
    "    3.C++\n",
    "    4.Java"
   ]
  },
  {
   "cell_type": "raw",
   "id": "bd58f85a",
   "metadata": {},
   "source": [
    "Some of the commonly used libraries used by Data Scientists :\n",
    "    1.NumPy\n",
    "    2.Pandas\n",
    "    3.Scipy\n",
    "    4.kares"
   ]
  },
  {
   "cell_type": "markdown",
   "id": "56728e12",
   "metadata": {},
   "source": [
    "|Data Science Tool|\n",
    "|---|\n",
    "|SAS|\n",
    "|Apache Hadoop|\n",
    "|TensorFlow|"
   ]
  },
  {
   "cell_type": "markdown",
   "id": "85f4aec1",
   "metadata": {},
   "source": [
    "### Below are a few examples of a evaluating arithmetic expressions in Python"
   ]
  },
  {
   "cell_type": "code",
   "execution_count": 5,
   "id": "553550ba",
   "metadata": {},
   "outputs": [
    {
     "data": {
      "text/plain": [
       "11"
      ]
     },
     "execution_count": 5,
     "metadata": {},
     "output_type": "execute_result"
    }
   ],
   "source": [
    "#example to multiply and add integer\n",
    "(5*2)+1"
   ]
  },
  {
   "cell_type": "code",
   "execution_count": 7,
   "id": "9114d420",
   "metadata": {},
   "outputs": [
    {
     "data": {
      "text/plain": [
       "5.0"
      ]
     },
     "execution_count": 7,
     "metadata": {},
     "output_type": "execute_result"
    }
   ],
   "source": [
    "#convert 200 minutes to hour \n",
    "300/60"
   ]
  },
  {
   "cell_type": "markdown",
   "id": "c8f0e942",
   "metadata": {},
   "source": [
    "__Objective__\n",
    "* List popular languges for Data science\n",
    "* List popular libraries for Data science \n",
    "* List of tools for Data Science\n",
    "* Provid comments in the cell"
   ]
  },
  {
   "cell_type": "markdown",
   "id": "57a677a0",
   "metadata": {},
   "source": [
    "### Author\n",
    "ashwoag ali"
   ]
  }
 ],
 "metadata": {
  "kernelspec": {
   "display_name": "Python 3 (ipykernel)",
   "language": "python",
   "name": "python3"
  },
  "language_info": {
   "codemirror_mode": {
    "name": "ipython",
    "version": 3
   },
   "file_extension": ".py",
   "mimetype": "text/x-python",
   "name": "python",
   "nbconvert_exporter": "python",
   "pygments_lexer": "ipython3",
   "version": "3.11.5"
  }
 },
 "nbformat": 4,
 "nbformat_minor": 5
}
